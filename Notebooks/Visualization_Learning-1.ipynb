{
 "cells": [
  {
   "cell_type": "code",
   "execution_count": 2,
   "id": "17c77722",
   "metadata": {},
   "outputs": [],
   "source": [
    "import pandas as pd\n",
    "import matplotlib.pyplot as plt\n",
    "import numpy as np"
   ]
  },
  {
   "cell_type": "code",
   "execution_count": 3,
   "id": "722918e4",
   "metadata": {},
   "outputs": [
    {
     "data": {
      "text/html": [
       "<div>\n",
       "<style scoped>\n",
       "    .dataframe tbody tr th:only-of-type {\n",
       "        vertical-align: middle;\n",
       "    }\n",
       "\n",
       "    .dataframe tbody tr th {\n",
       "        vertical-align: top;\n",
       "    }\n",
       "\n",
       "    .dataframe thead th {\n",
       "        text-align: right;\n",
       "    }\n",
       "</style>\n",
       "<table border=\"1\" class=\"dataframe\">\n",
       "  <thead>\n",
       "    <tr style=\"text-align: right;\">\n",
       "      <th></th>\n",
       "      <th>Country</th>\n",
       "      <th>Artist</th>\n",
       "      <th>Album</th>\n",
       "      <th>Genre</th>\n",
       "      <th>Release Year</th>\n",
       "      <th>Monthly Listeners (Millions)</th>\n",
       "      <th>Total Streams (Millions)</th>\n",
       "      <th>Total Hours Streamed (Millions)</th>\n",
       "      <th>Avg Stream Duration (Min)</th>\n",
       "      <th>Platform Type</th>\n",
       "      <th>Streams Last 30 Days (Millions)</th>\n",
       "      <th>Skip Rate (%)</th>\n",
       "    </tr>\n",
       "  </thead>\n",
       "  <tbody>\n",
       "    <tr>\n",
       "      <th>0</th>\n",
       "      <td>Germany</td>\n",
       "      <td>Taylor Swift</td>\n",
       "      <td>1989 (Taylor's Version)</td>\n",
       "      <td>K-pop</td>\n",
       "      <td>2020</td>\n",
       "      <td>23.10</td>\n",
       "      <td>3695.53</td>\n",
       "      <td>14240.35</td>\n",
       "      <td>4.28</td>\n",
       "      <td>Free</td>\n",
       "      <td>118.51</td>\n",
       "      <td>2.24</td>\n",
       "    </tr>\n",
       "    <tr>\n",
       "      <th>1</th>\n",
       "      <td>Brazil</td>\n",
       "      <td>The Weeknd</td>\n",
       "      <td>After Hours</td>\n",
       "      <td>R&amp;B</td>\n",
       "      <td>2023</td>\n",
       "      <td>60.60</td>\n",
       "      <td>2828.16</td>\n",
       "      <td>11120.44</td>\n",
       "      <td>3.90</td>\n",
       "      <td>Premium</td>\n",
       "      <td>44.87</td>\n",
       "      <td>23.98</td>\n",
       "    </tr>\n",
       "    <tr>\n",
       "      <th>2</th>\n",
       "      <td>United States</td>\n",
       "      <td>Post Malone</td>\n",
       "      <td>Austin</td>\n",
       "      <td>Reggaeton</td>\n",
       "      <td>2019</td>\n",
       "      <td>42.84</td>\n",
       "      <td>1425.46</td>\n",
       "      <td>4177.49</td>\n",
       "      <td>4.03</td>\n",
       "      <td>Free</td>\n",
       "      <td>19.46</td>\n",
       "      <td>4.77</td>\n",
       "    </tr>\n",
       "    <tr>\n",
       "      <th>3</th>\n",
       "      <td>Italy</td>\n",
       "      <td>Ed Sheeran</td>\n",
       "      <td>Autumn Variations</td>\n",
       "      <td>K-pop</td>\n",
       "      <td>2019</td>\n",
       "      <td>73.24</td>\n",
       "      <td>2704.33</td>\n",
       "      <td>12024.08</td>\n",
       "      <td>3.26</td>\n",
       "      <td>Premium</td>\n",
       "      <td>166.05</td>\n",
       "      <td>25.12</td>\n",
       "    </tr>\n",
       "    <tr>\n",
       "      <th>4</th>\n",
       "      <td>Italy</td>\n",
       "      <td>Ed Sheeran</td>\n",
       "      <td>Autumn Variations</td>\n",
       "      <td>R&amp;B</td>\n",
       "      <td>2019</td>\n",
       "      <td>7.89</td>\n",
       "      <td>3323.25</td>\n",
       "      <td>13446.32</td>\n",
       "      <td>4.47</td>\n",
       "      <td>Free</td>\n",
       "      <td>173.43</td>\n",
       "      <td>15.82</td>\n",
       "    </tr>\n",
       "  </tbody>\n",
       "</table>\n",
       "</div>"
      ],
      "text/plain": [
       "         Country        Artist                    Album      Genre  \\\n",
       "0        Germany  Taylor Swift  1989 (Taylor's Version)      K-pop   \n",
       "1         Brazil    The Weeknd              After Hours        R&B   \n",
       "2  United States   Post Malone                   Austin  Reggaeton   \n",
       "3          Italy    Ed Sheeran        Autumn Variations      K-pop   \n",
       "4          Italy    Ed Sheeran        Autumn Variations        R&B   \n",
       "\n",
       "   Release Year  Monthly Listeners (Millions)  Total Streams (Millions)  \\\n",
       "0          2020                         23.10                   3695.53   \n",
       "1          2023                         60.60                   2828.16   \n",
       "2          2019                         42.84                   1425.46   \n",
       "3          2019                         73.24                   2704.33   \n",
       "4          2019                          7.89                   3323.25   \n",
       "\n",
       "   Total Hours Streamed (Millions)  Avg Stream Duration (Min) Platform Type  \\\n",
       "0                         14240.35                       4.28          Free   \n",
       "1                         11120.44                       3.90       Premium   \n",
       "2                          4177.49                       4.03          Free   \n",
       "3                         12024.08                       3.26       Premium   \n",
       "4                         13446.32                       4.47          Free   \n",
       "\n",
       "   Streams Last 30 Days (Millions)  Skip Rate (%)  \n",
       "0                           118.51           2.24  \n",
       "1                            44.87          23.98  \n",
       "2                            19.46           4.77  \n",
       "3                           166.05          25.12  \n",
       "4                           173.43          15.82  "
      ]
     },
     "execution_count": 3,
     "metadata": {},
     "output_type": "execute_result"
    }
   ],
   "source": [
    "spotify_df = pd.read_csv(\"../data/Cleaned_Spotify_2024_Global_Streaming_Data.csv\")\n",
    "spotify_df.head()"
   ]
  },
  {
   "cell_type": "code",
   "execution_count": 6,
   "id": "3e06abef",
   "metadata": {},
   "outputs": [
    {
     "data": {
      "text/plain": [
       "Genre\n",
       "Classical    2739.955417\n",
       "EDM          2466.699804\n",
       "Hip Hop      2284.867551\n",
       "Indie        2661.669400\n",
       "Jazz         2408.460000\n",
       "K-pop        2760.691667\n",
       "Pop          2686.797500\n",
       "R&B          2779.311707\n",
       "Reggaeton    2404.313636\n",
       "Rock         2558.947069\n",
       "Name: Total Streams (Millions), dtype: float64"
      ]
     },
     "execution_count": 6,
     "metadata": {},
     "output_type": "execute_result"
    }
   ],
   "source": [
    "#Group by genre and calculate the average total streams\n",
    "avg_streams = spotify_df.groupby('Genre')['Total Streams (Millions)'].mean()\n",
    "avg_streams"
   ]
  },
  {
   "cell_type": "code",
   "execution_count": 7,
   "id": "f8c42cdc",
   "metadata": {},
   "outputs": [
    {
     "data": {
      "text/plain": [
       "<BarContainer object of 10 artists>"
      ]
     },
     "execution_count": 7,
     "metadata": {},
     "output_type": "execute_result"
    },
    {
     "data": {
      "image/png": "[encoded data removed]",
      "text/plain": [
       "<Figure size 640x480 with 1 Axes>"
      ]
     },
     "metadata": {},
     "output_type": "display_data"
    }
   ],
   "source": [
    "plt.bar(avg_streams.index, avg_streams.values)"
   ]
  }
 ],
 "metadata": {
  "kernelspec": {
   "display_name": "Python 3",
   "language": "python",
   "name": "python3"
  },
  "language_info": {
   "codemirror_mode": {
    "name": "ipython",
    "version": 3
   },
   "file_extension": ".py",
   "mimetype": "text/x-python",
   "name": "python",
   "nbconvert_exporter": "python",
   "pygments_lexer": "ipython3",
   "version": "3.13.5"
  }
 },
 "nbformat": 4,
 "nbformat_minor": 5
}
